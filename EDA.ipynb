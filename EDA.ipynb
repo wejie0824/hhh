{
  "metadata": {
    "language_info": {
      "codemirror_mode": {
        "name": "python",
        "version": 3
      },
      "file_extension": ".py",
      "mimetype": "text/x-python",
      "name": "python",
      "nbconvert_exporter": "python",
      "pygments_lexer": "ipython3",
      "version": "3.8"
    },
    "kernelspec": {
      "name": "python",
      "display_name": "Python (Pyodide)",
      "language": "python"
    }
  },
  "nbformat_minor": 4,
  "nbformat": 4,
  "cells": [
    {
      "cell_type": "code",
      "source": "import pandas as pd",
      "metadata": {
        "trusted": true
      },
      "execution_count": null,
      "outputs": []
    },
    {
      "cell_type": "code",
      "source": "Cab_Data=pd.read_csv(\"Cab_Data.csv\")",
      "metadata": {
        "trusted": true
      },
      "execution_count": null,
      "outputs": []
    },
    {
      "cell_type": "code",
      "source": "City_data = pd.read_csv('City.csv')",
      "metadata": {
        "trusted": true
      },
      "execution_count": 8,
      "outputs": []
    },
    {
      "cell_type": "code",
      "source": "Customer_data = pd.read_csv('Customer_ID.csv')",
      "metadata": {
        "trusted": true
      },
      "execution_count": 4,
      "outputs": []
    },
    {
      "cell_type": "code",
      "source": "Transaction_data = pd.read_csv('Transaction_ID.csv')",
      "metadata": {
        "trusted": true
      },
      "execution_count": 5,
      "outputs": []
    },
    {
      "cell_type": "code",
      "source": "print(Cab_Data)",
      "metadata": {
        "trusted": true
      },
      "execution_count": null,
      "outputs": []
    },
    {
      "cell_type": "code",
      "source": "Cab_Data.info()",
      "metadata": {
        "trusted": true
      },
      "execution_count": 6,
      "outputs": [
        {
          "name": "stdout",
          "text": "<class 'pandas.core.frame.DataFrame'>\nRangeIndex: 359392 entries, 0 to 359391\nData columns (total 7 columns):\n #   Column          Non-Null Count   Dtype  \n---  ------          --------------   -----  \n 0   Transaction ID  359392 non-null  int64  \n 1   Date of Travel  359392 non-null  int64  \n 2   Company         359392 non-null  object \n 3   City            359392 non-null  object \n 4   KM Travelled    359392 non-null  float64\n 5   Price Charged   359392 non-null  float64\n 6   Cost of Trip    359392 non-null  float64\ndtypes: float64(3), int64(2), object(2)\nmemory usage: 16.5+ MB\n",
          "output_type": "stream"
        }
      ]
    },
    {
      "cell_type": "code",
      "source": "Cab_Data.describe()",
      "metadata": {
        "trusted": true
      },
      "execution_count": 11,
      "outputs": [
        {
          "execution_count": 11,
          "output_type": "execute_result",
          "data": {
            "text/plain": "       Transaction ID  Date of Travel   KM Travelled  Price Charged  \\\ncount    3.593920e+05   359392.000000  359392.000000  359392.000000   \nmean     1.022076e+07    42964.067998      22.567254     423.443311   \nstd      1.268058e+05      307.467197      12.233526     274.378911   \nmin      1.000001e+07    42371.000000       1.900000      15.600000   \n25%      1.011081e+07    42697.000000      12.000000     206.437500   \n50%      1.022104e+07    42988.000000      22.440000     386.360000   \n75%      1.033094e+07    43232.000000      32.960000     583.660000   \nmax      1.044011e+07    43465.000000      48.000000    2048.030000   \n\n        Cost of Trip  \ncount  359392.000000  \nmean      286.190113  \nstd       157.993661  \nmin        19.000000  \n25%       151.200000  \n50%       282.480000  \n75%       413.683200  \nmax       691.200000  ",
            "text/html": "<div>\n<style scoped>\n    .dataframe tbody tr th:only-of-type {\n        vertical-align: middle;\n    }\n\n    .dataframe tbody tr th {\n        vertical-align: top;\n    }\n\n    .dataframe thead th {\n        text-align: right;\n    }\n</style>\n<table border=\"1\" class=\"dataframe\">\n  <thead>\n    <tr style=\"text-align: right;\">\n      <th></th>\n      <th>Transaction ID</th>\n      <th>Date of Travel</th>\n      <th>KM Travelled</th>\n      <th>Price Charged</th>\n      <th>Cost of Trip</th>\n    </tr>\n  </thead>\n  <tbody>\n    <tr>\n      <th>count</th>\n      <td>3.593920e+05</td>\n      <td>359392.000000</td>\n      <td>359392.000000</td>\n      <td>359392.000000</td>\n      <td>359392.000000</td>\n    </tr>\n    <tr>\n      <th>mean</th>\n      <td>1.022076e+07</td>\n      <td>42964.067998</td>\n      <td>22.567254</td>\n      <td>423.443311</td>\n      <td>286.190113</td>\n    </tr>\n    <tr>\n      <th>std</th>\n      <td>1.268058e+05</td>\n      <td>307.467197</td>\n      <td>12.233526</td>\n      <td>274.378911</td>\n      <td>157.993661</td>\n    </tr>\n    <tr>\n      <th>min</th>\n      <td>1.000001e+07</td>\n      <td>42371.000000</td>\n      <td>1.900000</td>\n      <td>15.600000</td>\n      <td>19.000000</td>\n    </tr>\n    <tr>\n      <th>25%</th>\n      <td>1.011081e+07</td>\n      <td>42697.000000</td>\n      <td>12.000000</td>\n      <td>206.437500</td>\n      <td>151.200000</td>\n    </tr>\n    <tr>\n      <th>50%</th>\n      <td>1.022104e+07</td>\n      <td>42988.000000</td>\n      <td>22.440000</td>\n      <td>386.360000</td>\n      <td>282.480000</td>\n    </tr>\n    <tr>\n      <th>75%</th>\n      <td>1.033094e+07</td>\n      <td>43232.000000</td>\n      <td>32.960000</td>\n      <td>583.660000</td>\n      <td>413.683200</td>\n    </tr>\n    <tr>\n      <th>max</th>\n      <td>1.044011e+07</td>\n      <td>43465.000000</td>\n      <td>48.000000</td>\n      <td>2048.030000</td>\n      <td>691.200000</td>\n    </tr>\n  </tbody>\n</table>\n</div>"
          },
          "metadata": {}
        }
      ]
    },
    {
      "cell_type": "code",
      "source": "print(City_data)",
      "metadata": {
        "trusted": true
      },
      "execution_count": 13,
      "outputs": [
        {
          "name": "stdout",
          "text": "                City   Population      Users\n0        NEW YORK NY   8,405,837    302,149 \n1         CHICAGO IL   1,955,130    164,468 \n2     LOS ANGELES CA   1,595,037    144,132 \n3           MIAMI FL   1,339,155     17,675 \n4     SILICON VALLEY   1,177,609     27,247 \n5      ORANGE COUNTY   1,030,185     12,994 \n6       SAN DIEGO CA     959,307     69,995 \n7         PHOENIX AZ     943,999      6,133 \n8          DALLAS TX     942,908     22,157 \n9         ATLANTA GA     814,885     24,701 \n10         DENVER CO     754,233     12,421 \n11         AUSTIN TX     698,371     14,978 \n12        SEATTLE WA     671,238     25,063 \n13         TUCSON AZ     631,442      5,712 \n14  SAN FRANCISCO CA     629,591    213,609 \n15     SACRAMENTO CA     545,776      7,044 \n16     PITTSBURGH PA     542,085      3,643 \n17     WASHINGTON DC     418,859    127,001 \n18      NASHVILLE TN     327,225      9,270 \n19         BOSTON MA     248,968     80,021 \n",
          "output_type": "stream"
        }
      ]
    },
    {
      "cell_type": "code",
      "source": "City_data.info()",
      "metadata": {
        "trusted": true
      },
      "execution_count": 14,
      "outputs": [
        {
          "name": "stdout",
          "text": "<class 'pandas.core.frame.DataFrame'>\nRangeIndex: 20 entries, 0 to 19\nData columns (total 3 columns):\n #   Column      Non-Null Count  Dtype \n---  ------      --------------  ----- \n 0   City        20 non-null     object\n 1   Population  20 non-null     object\n 2   Users       20 non-null     object\ndtypes: object(3)\nmemory usage: 312.0+ bytes\n",
          "output_type": "stream"
        }
      ]
    },
    {
      "cell_type": "code",
      "source": "City_data.describe()",
      "metadata": {
        "trusted": true
      },
      "execution_count": 15,
      "outputs": [
        {
          "execution_count": 15,
          "output_type": "execute_result",
          "data": {
            "text/plain": "               City   Population      Users\ncount            20           20         20\nunique           20           20         20\ntop     NEW YORK NY   8,405,837    302,149 \nfreq              1            1          1",
            "text/html": "<div>\n<style scoped>\n    .dataframe tbody tr th:only-of-type {\n        vertical-align: middle;\n    }\n\n    .dataframe tbody tr th {\n        vertical-align: top;\n    }\n\n    .dataframe thead th {\n        text-align: right;\n    }\n</style>\n<table border=\"1\" class=\"dataframe\">\n  <thead>\n    <tr style=\"text-align: right;\">\n      <th></th>\n      <th>City</th>\n      <th>Population</th>\n      <th>Users</th>\n    </tr>\n  </thead>\n  <tbody>\n    <tr>\n      <th>count</th>\n      <td>20</td>\n      <td>20</td>\n      <td>20</td>\n    </tr>\n    <tr>\n      <th>unique</th>\n      <td>20</td>\n      <td>20</td>\n      <td>20</td>\n    </tr>\n    <tr>\n      <th>top</th>\n      <td>NEW YORK NY</td>\n      <td>8,405,837</td>\n      <td>302,149</td>\n    </tr>\n    <tr>\n      <th>freq</th>\n      <td>1</td>\n      <td>1</td>\n      <td>1</td>\n    </tr>\n  </tbody>\n</table>\n</div>"
          },
          "metadata": {}
        }
      ]
    },
    {
      "cell_type": "code",
      "source": "print(Customer_data)",
      "metadata": {
        "trusted": true
      },
      "execution_count": 17,
      "outputs": [
        {
          "name": "stdout",
          "text": "       Customer ID  Gender  Age  Income (USD/Month)\n0            29290    Male   28               10813\n1            27703    Male   27                9237\n2            28712    Male   53               11242\n3            28020    Male   23               23327\n4            27182    Male   33                8536\n...            ...     ...  ...                 ...\n49166        12490    Male   33               18713\n49167        14971    Male   30               15346\n49168        41414    Male   38                3960\n49169        41677    Male   23               19454\n49170        39761  Female   32               10128\n\n[49171 rows x 4 columns]\n",
          "output_type": "stream"
        }
      ]
    },
    {
      "cell_type": "code",
      "source": "Customer_data.info()",
      "metadata": {
        "trusted": true
      },
      "execution_count": 18,
      "outputs": [
        {
          "name": "stdout",
          "text": "<class 'pandas.core.frame.DataFrame'>\nRangeIndex: 49171 entries, 0 to 49170\nData columns (total 4 columns):\n #   Column              Non-Null Count  Dtype \n---  ------              --------------  ----- \n 0   Customer ID         49171 non-null  int64 \n 1   Gender              49171 non-null  object\n 2   Age                 49171 non-null  int64 \n 3   Income (USD/Month)  49171 non-null  int64 \ndtypes: int64(3), object(1)\nmemory usage: 1.3+ MB\n",
          "output_type": "stream"
        }
      ]
    },
    {
      "cell_type": "code",
      "source": "Customer_data.describe()",
      "metadata": {
        "trusted": true
      },
      "execution_count": 19,
      "outputs": [
        {
          "execution_count": 19,
          "output_type": "execute_result",
          "data": {
            "text/plain": "        Customer ID           Age  Income (USD/Month)\ncount  49171.000000  49171.000000        49171.000000\nmean   28398.252283     35.363121        15015.631856\nstd    17714.137333     12.599066         8002.208253\nmin        1.000000     18.000000         2000.000000\n25%    12654.500000     25.000000         8289.500000\n50%    27631.000000     33.000000        14656.000000\n75%    43284.500000     42.000000        21035.000000\nmax    60000.000000     65.000000        35000.000000",
            "text/html": "<div>\n<style scoped>\n    .dataframe tbody tr th:only-of-type {\n        vertical-align: middle;\n    }\n\n    .dataframe tbody tr th {\n        vertical-align: top;\n    }\n\n    .dataframe thead th {\n        text-align: right;\n    }\n</style>\n<table border=\"1\" class=\"dataframe\">\n  <thead>\n    <tr style=\"text-align: right;\">\n      <th></th>\n      <th>Customer ID</th>\n      <th>Age</th>\n      <th>Income (USD/Month)</th>\n    </tr>\n  </thead>\n  <tbody>\n    <tr>\n      <th>count</th>\n      <td>49171.000000</td>\n      <td>49171.000000</td>\n      <td>49171.000000</td>\n    </tr>\n    <tr>\n      <th>mean</th>\n      <td>28398.252283</td>\n      <td>35.363121</td>\n      <td>15015.631856</td>\n    </tr>\n    <tr>\n      <th>std</th>\n      <td>17714.137333</td>\n      <td>12.599066</td>\n      <td>8002.208253</td>\n    </tr>\n    <tr>\n      <th>min</th>\n      <td>1.000000</td>\n      <td>18.000000</td>\n      <td>2000.000000</td>\n    </tr>\n    <tr>\n      <th>25%</th>\n      <td>12654.500000</td>\n      <td>25.000000</td>\n      <td>8289.500000</td>\n    </tr>\n    <tr>\n      <th>50%</th>\n      <td>27631.000000</td>\n      <td>33.000000</td>\n      <td>14656.000000</td>\n    </tr>\n    <tr>\n      <th>75%</th>\n      <td>43284.500000</td>\n      <td>42.000000</td>\n      <td>21035.000000</td>\n    </tr>\n    <tr>\n      <th>max</th>\n      <td>60000.000000</td>\n      <td>65.000000</td>\n      <td>35000.000000</td>\n    </tr>\n  </tbody>\n</table>\n</div>"
          },
          "metadata": {}
        }
      ]
    },
    {
      "cell_type": "code",
      "source": "print(Transaction_data)",
      "metadata": {
        "trusted": true
      },
      "execution_count": 20,
      "outputs": [
        {
          "name": "stdout",
          "text": "        Transaction ID  Customer ID Payment_Mode\n0             10000011        29290         Card\n1             10000012        27703         Card\n2             10000013        28712         Cash\n3             10000014        28020         Cash\n4             10000015        27182         Card\n...                ...          ...          ...\n440093        10440104        53286         Cash\n440094        10440105        52265         Cash\n440095        10440106        52175         Card\n440096        10440107        52917         Card\n440097        10440108        51587         Card\n\n[440098 rows x 3 columns]\n",
          "output_type": "stream"
        }
      ]
    },
    {
      "cell_type": "code",
      "source": "Transaction_data.info()",
      "metadata": {
        "trusted": true
      },
      "execution_count": 21,
      "outputs": [
        {
          "name": "stdout",
          "text": "<class 'pandas.core.frame.DataFrame'>\nRangeIndex: 440098 entries, 0 to 440097\nData columns (total 3 columns):\n #   Column          Non-Null Count   Dtype \n---  ------          --------------   ----- \n 0   Transaction ID  440098 non-null  int64 \n 1   Customer ID     440098 non-null  int64 \n 2   Payment_Mode    440098 non-null  object\ndtypes: int64(2), object(1)\nmemory usage: 8.4+ MB\n",
          "output_type": "stream"
        }
      ]
    },
    {
      "cell_type": "code",
      "source": "Transaction_data.describe",
      "metadata": {
        "trusted": true
      },
      "execution_count": 22,
      "outputs": [
        {
          "execution_count": 22,
          "output_type": "execute_result",
          "data": {
            "text/plain": "<bound method NDFrame.describe of         Transaction ID  Customer ID Payment_Mode\n0             10000011        29290         Card\n1             10000012        27703         Card\n2             10000013        28712         Cash\n3             10000014        28020         Cash\n4             10000015        27182         Card\n...                ...          ...          ...\n440093        10440104        53286         Cash\n440094        10440105        52265         Cash\n440095        10440106        52175         Card\n440096        10440107        52917         Card\n440097        10440108        51587         Card\n\n[440098 rows x 3 columns]>"
          },
          "metadata": {}
        }
      ]
    },
    {
      "cell_type": "code",
      "source": "Cab_Data.duplicated().sum()",
      "metadata": {
        "trusted": true
      },
      "execution_count": 23,
      "outputs": [
        {
          "execution_count": 23,
          "output_type": "execute_result",
          "data": {
            "text/plain": "0"
          },
          "metadata": {}
        }
      ]
    },
    {
      "cell_type": "code",
      "source": "City_data.duplicated().sum()",
      "metadata": {
        "trusted": true
      },
      "execution_count": 24,
      "outputs": [
        {
          "execution_count": 24,
          "output_type": "execute_result",
          "data": {
            "text/plain": "0"
          },
          "metadata": {}
        }
      ]
    },
    {
      "cell_type": "code",
      "source": "Customer_data.duplicated().sum()",
      "metadata": {
        "trusted": true
      },
      "execution_count": 25,
      "outputs": [
        {
          "execution_count": 25,
          "output_type": "execute_result",
          "data": {
            "text/plain": "0"
          },
          "metadata": {}
        }
      ]
    },
    {
      "cell_type": "code",
      "source": "Transaction_data.duplicated().sum()",
      "metadata": {
        "trusted": true
      },
      "execution_count": 26,
      "outputs": [
        {
          "execution_count": 26,
          "output_type": "execute_result",
          "data": {
            "text/plain": "0"
          },
          "metadata": {}
        }
      ]
    },
    {
      "cell_type": "code",
      "source": "merged_data = pd.merge(Transaction_data, Cab_Data, on ='Transaction ID', how ='left')",
      "metadata": {
        "trusted": true
      },
      "execution_count": 31,
      "outputs": []
    },
    {
      "cell_type": "code",
      "source": "merged_data.info()",
      "metadata": {
        "trusted": true
      },
      "execution_count": 32,
      "outputs": [
        {
          "name": "stdout",
          "text": "<class 'pandas.core.frame.DataFrame'>\nInt64Index: 440098 entries, 0 to 440097\nData columns (total 9 columns):\n #   Column          Non-Null Count   Dtype  \n---  ------          --------------   -----  \n 0   Transaction ID  440098 non-null  int64  \n 1   Customer ID     440098 non-null  int64  \n 2   Payment_Mode    440098 non-null  object \n 3   Date of Travel  359392 non-null  float64\n 4   Company         359392 non-null  object \n 5   City            359392 non-null  object \n 6   KM Travelled    359392 non-null  float64\n 7   Price Charged   359392 non-null  float64\n 8   Cost of Trip    359392 non-null  float64\ndtypes: float64(4), int64(2), object(3)\nmemory usage: 28.5+ MB\n",
          "output_type": "stream"
        }
      ]
    },
    {
      "cell_type": "code",
      "source": "new_data=pd.merge(merged_data, Customer_data)",
      "metadata": {
        "trusted": true
      },
      "execution_count": 33,
      "outputs": []
    },
    {
      "cell_type": "code",
      "source": "new_data.info()",
      "metadata": {
        "trusted": true
      },
      "execution_count": 34,
      "outputs": [
        {
          "name": "stdout",
          "text": "<class 'pandas.core.frame.DataFrame'>\nInt64Index: 440098 entries, 0 to 440097\nData columns (total 12 columns):\n #   Column              Non-Null Count   Dtype  \n---  ------              --------------   -----  \n 0   Transaction ID      440098 non-null  int64  \n 1   Customer ID         440098 non-null  int64  \n 2   Payment_Mode        440098 non-null  object \n 3   Date of Travel      359392 non-null  float64\n 4   Company             359392 non-null  object \n 5   City                359392 non-null  object \n 6   KM Travelled        359392 non-null  float64\n 7   Price Charged       359392 non-null  float64\n 8   Cost of Trip        359392 non-null  float64\n 9   Gender              440098 non-null  object \n 10  Age                 440098 non-null  int64  \n 11  Income (USD/Month)  440098 non-null  int64  \ndtypes: float64(4), int64(4), object(4)\nmemory usage: 36.9+ MB\n",
          "output_type": "stream"
        }
      ]
    },
    {
      "cell_type": "code",
      "source": "new_data_1=pd.merge(new_data, City_data)",
      "metadata": {
        "trusted": true
      },
      "execution_count": 35,
      "outputs": []
    },
    {
      "cell_type": "code",
      "source": "new_data_1.info()",
      "metadata": {
        "trusted": true
      },
      "execution_count": 36,
      "outputs": [
        {
          "name": "stdout",
          "text": "<class 'pandas.core.frame.DataFrame'>\nInt64Index: 359392 entries, 0 to 359391\nData columns (total 14 columns):\n #   Column              Non-Null Count   Dtype  \n---  ------              --------------   -----  \n 0   Transaction ID      359392 non-null  int64  \n 1   Customer ID         359392 non-null  int64  \n 2   Payment_Mode        359392 non-null  object \n 3   Date of Travel      359392 non-null  float64\n 4   Company             359392 non-null  object \n 5   City                359392 non-null  object \n 6   KM Travelled        359392 non-null  float64\n 7   Price Charged       359392 non-null  float64\n 8   Cost of Trip        359392 non-null  float64\n 9   Gender              359392 non-null  object \n 10  Age                 359392 non-null  int64  \n 11  Income (USD/Month)  359392 non-null  int64  \n 12  Population          359392 non-null  object \n 13  Users               359392 non-null  object \ndtypes: float64(4), int64(4), object(6)\nmemory usage: 32.9+ MB\n",
          "output_type": "stream"
        }
      ]
    },
    {
      "cell_type": "code",
      "source": "new_data_1[\"Company\"].value_counts()",
      "metadata": {
        "trusted": true
      },
      "execution_count": 40,
      "outputs": [
        {
          "execution_count": 40,
          "output_type": "execute_result",
          "data": {
            "text/plain": "Yellow Cab    274681\nPink Cab       84711\nName: Company, dtype: int64"
          },
          "metadata": {}
        }
      ]
    },
    {
      "cell_type": "code",
      "source": "#We observe that the number of Yellow Cab is more than 3 times that of Pink Cab. ",
      "metadata": {
        "trusted": true
      },
      "execution_count": 39,
      "outputs": []
    },
    {
      "cell_type": "code",
      "source": "new_data_1[\"Age\"].value_counts()",
      "metadata": {
        "trusted": true
      },
      "execution_count": 41,
      "outputs": [
        {
          "execution_count": 41,
          "output_type": "execute_result",
          "data": {
            "text/plain": "23    12327\n20    12229\n27    12030\n25    11973\n32    11959\n34    11825\n39    11798\n22    11796\n26    11655\n19    11591\n40    11536\n33    11457\n21    11431\n30    11165\n28    11163\n24    11151\n37    11086\n36    11054\n31    10930\n38    10906\n18    10846\n29    10675\n35    10555\n61     4361\n45     4248\n49     4158\n58     4107\n50     4089\n47     4087\n59     4068\n42     3970\n51     3931\n46     3918\n64     3908\n41     3852\n43     3823\n54     3810\n52     3784\n60     3775\n56     3742\n63     3733\n44     3725\n48     3700\n53     3641\n62     3530\n57     3473\n55     3442\n65     3379\nName: Age, dtype: int64"
          },
          "metadata": {}
        }
      ]
    },
    {
      "cell_type": "code",
      "source": "new_data_1[\"Gender\"].value_counts()",
      "metadata": {
        "trusted": true
      },
      "execution_count": null,
      "outputs": []
    },
    {
      "cell_type": "code",
      "source": "yellow_cab_prices = new_data_1[new_data_1[\"Company\"] == \"Yellow Cab\"][\"Price Charged\"]\nprint(\"Price charged by Yellow Cab:\")\nprint(yellow_cab_prices.describe())\n\npink_cab_prices = new_data_1[new_data_1[\"Company\"] == \"Pink Cab\"][\"Price Charged\"]\nprint(\"Price charged by Pink Cab:\")\nprint(pink_cab_prices.describe())",
      "metadata": {
        "trusted": true
      },
      "execution_count": null,
      "outputs": []
    },
    {
      "cell_type": "code",
      "source": "import matplotlib.pyplot as plt\n\n# Calculate mean prices\nyellow_cab_mean_price = yellow_cab_prices.mean()\npink_cab_mean_price = pink_cab_prices.mean()\n\n# Create a bar plot\ncab_labels = ['Yellow Cab', 'Pink Cab']\nmean_prices = [yellow_cab_mean_price, pink_cab_mean_price]\n\nplt.bar(cab_labels, mean_prices)\nplt.xlabel('Cab Company')\nplt.ylabel('Mean Price Charged')\nplt.title('Mean Price Charged by Yellow Cab and Pink Cab')\n\nplt.show()\n",
      "metadata": {
        "trusted": true
      },
      "execution_count": null,
      "outputs": []
    },
    {
      "cell_type": "code",
      "source": "# Similarly, we can also compare the cost of Trip between Yellow Cab and Pink Cab\n\nyellow_cab_cost = new_data_1[new_data_1[\"Company\"] == \"Yellow Cab\"][\"Price Charged\"]\nprint(\"Price charged by Yellow Cab:\")\nprint(yellow_cab_prices.describe())\n\npink_cab_prices = new_data_1[new_data_1[\"Company\"] == \"Pink Cab\"][\"Price Charged\"]\nprint(\"Price charged by Pink Cab:\")\nprint(pink_cab_prices.describe())",
      "metadata": {
        "trusted": true
      },
      "execution_count": null,
      "outputs": []
    },
    {
      "cell_type": "code",
      "source": "1+2",
      "metadata": {
        "trusted": true
      },
      "execution_count": null,
      "outputs": []
    },
    {
      "cell_type": "code",
      "source": "",
      "metadata": {},
      "execution_count": null,
      "outputs": []
    },
    {
      "cell_type": "code",
      "source": "",
      "metadata": {},
      "execution_count": null,
      "outputs": []
    }
  ]
}